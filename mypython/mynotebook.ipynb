{
 "metadata": {
  "language_info": {
   "codemirror_mode": {
    "name": "ipython",
    "version": 3
   },
   "file_extension": ".py",
   "mimetype": "text/x-python",
   "name": "python",
   "nbconvert_exporter": "python",
   "pygments_lexer": "ipython3",
   "version": "3.8.3-final"
  },
  "orig_nbformat": 2,
  "kernelspec": {
   "name": "python38364bitdataanalysisconda5b60b47008bc4ef6bebee31cdab6e610",
   "display_name": "Python 3.8.3 64-bit ('data-analysis': conda)"
  }
 },
 "nbformat": 4,
 "nbformat_minor": 2,
 "cells": [
  {
   "source": [
    "This is a python-data analysis notebook which records some important codes."
   ],
   "cell_type": "markdown",
   "metadata": {}
  },
  {
   "cell_type": "code",
   "execution_count": 12,
   "metadata": {},
   "outputs": [],
   "source": [
    "import numpy as np \n",
    "from pandas import Series,DataFrame\n",
    "import pandas as pd\n",
    "import seaborn as sns\n",
    "import matplotlib.pyplot as plt \n",
    "%matplotlib inline"
   ]
  },
  {
   "source": [
    "2020/10/26:数据分组与聚合运算"
   ],
   "cell_type": "markdown",
   "metadata": {}
  },
  {
   "cell_type": "code",
   "execution_count": 13,
   "metadata": {},
   "outputs": [],
   "source": [
    "tips=pd.read_csv('tips.csv')"
   ]
  },
  {
   "cell_type": "code",
   "execution_count": 14,
   "metadata": {},
   "outputs": [
    {
     "output_type": "execute_result",
     "data": {
      "text/plain": [
       "<pandas.core.groupby.generic.SeriesGroupBy object at 0x000001F4CB9BBD90>"
      ]
     },
     "metadata": {},
     "execution_count": 14
    }
   ],
   "source": [
    "tips.groupby('sex')['tip']\n",
    "# groupby方法生成了一个groupby对象，是可迭代类型(name,group)"
   ]
  },
  {
   "cell_type": "code",
   "execution_count": 15,
   "metadata": {},
   "outputs": [
    {
     "output_type": "execute_result",
     "data": {
      "text/plain": [
       "        total_bill       tip      size\n",
       "sex                                   \n",
       "Female   18.056897  2.833448  2.459770\n",
       "Male     20.744076  3.089618  2.630573"
      ],
      "text/html": "<div>\n<style scoped>\n    .dataframe tbody tr th:only-of-type {\n        vertical-align: middle;\n    }\n\n    .dataframe tbody tr th {\n        vertical-align: top;\n    }\n\n    .dataframe thead th {\n        text-align: right;\n    }\n</style>\n<table border=\"1\" class=\"dataframe\">\n  <thead>\n    <tr style=\"text-align: right;\">\n      <th></th>\n      <th>total_bill</th>\n      <th>tip</th>\n      <th>size</th>\n    </tr>\n    <tr>\n      <th>sex</th>\n      <th></th>\n      <th></th>\n      <th></th>\n    </tr>\n  </thead>\n  <tbody>\n    <tr>\n      <th>Female</th>\n      <td>18.056897</td>\n      <td>2.833448</td>\n      <td>2.459770</td>\n    </tr>\n    <tr>\n      <th>Male</th>\n      <td>20.744076</td>\n      <td>3.089618</td>\n      <td>2.630573</td>\n    </tr>\n  </tbody>\n</table>\n</div>"
     },
     "metadata": {},
     "execution_count": 15
    }
   ],
   "source": [
    "tips.groupby('sex').mean()\n",
    "# count,sum,mean,median,std,var,min,max,prod,first,last"
   ]
  },
  {
   "cell_type": "code",
   "execution_count": 16,
   "metadata": {},
   "outputs": [
    {
     "output_type": "execute_result",
     "data": {
      "text/plain": [
       "sex\n",
       "Female    5.5\n",
       "Male      9.0\n",
       "Name: tip, dtype: float64"
      ]
     },
     "metadata": {},
     "execution_count": 16
    }
   ],
   "source": [
    "def get_range(x):\n",
    "    return x.max()-x.min()\n",
    "tips_range=tips.groupby('sex')['tip'].agg(get_range)\n",
    "tips_range"
   ]
  },
  {
   "cell_type": "code",
   "execution_count": 17,
   "metadata": {},
   "outputs": [
    {
     "output_type": "execute_result",
     "data": {
      "text/plain": [
       "array([ 1,  3,  4,  6,  7,  8, 32])"
      ]
     },
     "metadata": {},
     "execution_count": 17
    }
   ],
   "source": [
    "# numpy库中的argsort()函数：\n",
    "arr=np.array([1,3,8,4,32,6,7])\n",
    "arr_index=np.argsort(arr)\n",
    "arr[arr_index]"
   ]
  },
  {
   "source": [
    "2020/10/27:分组运算与数据透视表"
   ],
   "cell_type": "markdown",
   "metadata": {}
  },
  {
   "cell_type": "code",
   "execution_count": 18,
   "metadata": {},
   "outputs": [
    {
     "output_type": "execute_result",
     "data": {
      "text/plain": [
       "0      2.833448\n",
       "1      3.089618\n",
       "2      3.089618\n",
       "3      3.089618\n",
       "4      2.833448\n",
       "         ...   \n",
       "239    3.089618\n",
       "240    2.833448\n",
       "241    3.089618\n",
       "242    3.089618\n",
       "243    2.833448\n",
       "Name: tip, Length: 244, dtype: float64"
      ]
     },
     "metadata": {},
     "execution_count": 18
    }
   ],
   "source": [
    "# transform方法\n",
    "tips.groupby('sex')['tip'].transform('mean')"
   ]
  },
  {
   "cell_type": "code",
   "execution_count": 19,
   "metadata": {},
   "outputs": [
    {
     "output_type": "execute_result",
     "data": {
      "text/plain": [
       "            total_bill   tip     sex smoker  day    time  size\n",
       "sex                                                           \n",
       "Female 215       12.90  1.10  Female    Yes  Sat  Dinner     2\n",
       "       0         16.99  1.01  Female     No  Sun  Dinner     2\n",
       "       111        7.25  1.00  Female     No  Sat  Dinner     1\n",
       "       67         3.07  1.00  Female    Yes  Sat  Dinner     1\n",
       "       92         5.75  1.00  Female    Yes  Fri  Dinner     2\n",
       "Male   43         9.68  1.32    Male     No  Sun  Dinner     2\n",
       "       235       10.07  1.25    Male     No  Sat  Dinner     2\n",
       "       75        10.51  1.25    Male     No  Sat  Dinner     2\n",
       "       237       32.83  1.17    Male    Yes  Sat  Dinner     2\n",
       "       236       12.60  1.00    Male    Yes  Sat  Dinner     2"
      ],
      "text/html": "<div>\n<style scoped>\n    .dataframe tbody tr th:only-of-type {\n        vertical-align: middle;\n    }\n\n    .dataframe tbody tr th {\n        vertical-align: top;\n    }\n\n    .dataframe thead th {\n        text-align: right;\n    }\n</style>\n<table border=\"1\" class=\"dataframe\">\n  <thead>\n    <tr style=\"text-align: right;\">\n      <th></th>\n      <th></th>\n      <th>total_bill</th>\n      <th>tip</th>\n      <th>sex</th>\n      <th>smoker</th>\n      <th>day</th>\n      <th>time</th>\n      <th>size</th>\n    </tr>\n    <tr>\n      <th>sex</th>\n      <th></th>\n      <th></th>\n      <th></th>\n      <th></th>\n      <th></th>\n      <th></th>\n      <th></th>\n      <th></th>\n    </tr>\n  </thead>\n  <tbody>\n    <tr>\n      <th rowspan=\"5\" valign=\"top\">Female</th>\n      <th>215</th>\n      <td>12.90</td>\n      <td>1.10</td>\n      <td>Female</td>\n      <td>Yes</td>\n      <td>Sat</td>\n      <td>Dinner</td>\n      <td>2</td>\n    </tr>\n    <tr>\n      <th>0</th>\n      <td>16.99</td>\n      <td>1.01</td>\n      <td>Female</td>\n      <td>No</td>\n      <td>Sun</td>\n      <td>Dinner</td>\n      <td>2</td>\n    </tr>\n    <tr>\n      <th>111</th>\n      <td>7.25</td>\n      <td>1.00</td>\n      <td>Female</td>\n      <td>No</td>\n      <td>Sat</td>\n      <td>Dinner</td>\n      <td>1</td>\n    </tr>\n    <tr>\n      <th>67</th>\n      <td>3.07</td>\n      <td>1.00</td>\n      <td>Female</td>\n      <td>Yes</td>\n      <td>Sat</td>\n      <td>Dinner</td>\n      <td>1</td>\n    </tr>\n    <tr>\n      <th>92</th>\n      <td>5.75</td>\n      <td>1.00</td>\n      <td>Female</td>\n      <td>Yes</td>\n      <td>Fri</td>\n      <td>Dinner</td>\n      <td>2</td>\n    </tr>\n    <tr>\n      <th rowspan=\"5\" valign=\"top\">Male</th>\n      <th>43</th>\n      <td>9.68</td>\n      <td>1.32</td>\n      <td>Male</td>\n      <td>No</td>\n      <td>Sun</td>\n      <td>Dinner</td>\n      <td>2</td>\n    </tr>\n    <tr>\n      <th>235</th>\n      <td>10.07</td>\n      <td>1.25</td>\n      <td>Male</td>\n      <td>No</td>\n      <td>Sat</td>\n      <td>Dinner</td>\n      <td>2</td>\n    </tr>\n    <tr>\n      <th>75</th>\n      <td>10.51</td>\n      <td>1.25</td>\n      <td>Male</td>\n      <td>No</td>\n      <td>Sat</td>\n      <td>Dinner</td>\n      <td>2</td>\n    </tr>\n    <tr>\n      <th>237</th>\n      <td>32.83</td>\n      <td>1.17</td>\n      <td>Male</td>\n      <td>Yes</td>\n      <td>Sat</td>\n      <td>Dinner</td>\n      <td>2</td>\n    </tr>\n    <tr>\n      <th>236</th>\n      <td>12.60</td>\n      <td>1.00</td>\n      <td>Male</td>\n      <td>Yes</td>\n      <td>Sat</td>\n      <td>Dinner</td>\n      <td>2</td>\n    </tr>\n  </tbody>\n</table>\n</div>"
     },
     "metadata": {},
     "execution_count": 19
    }
   ],
   "source": [
    "# apply方法\n",
    "def top(x,n=5):\n",
    "    return x.sort_values(by='tip',ascending=False)[-n:]\n",
    "tips.groupby('sex').apply(top)"
   ]
  },
  {
   "cell_type": "code",
   "execution_count": 20,
   "metadata": {},
   "outputs": [
    {
     "output_type": "execute_result",
     "data": {
      "text/plain": [
       "smoker      No     Yes     All\n",
       "sex                           \n",
       "Female  149.77   96.74  246.51\n",
       "Male    302.00  183.07  485.07\n",
       "All     451.77  279.81  731.58"
      ],
      "text/html": "<div>\n<style scoped>\n    .dataframe tbody tr th:only-of-type {\n        vertical-align: middle;\n    }\n\n    .dataframe tbody tr th {\n        vertical-align: top;\n    }\n\n    .dataframe thead th {\n        text-align: right;\n    }\n</style>\n<table border=\"1\" class=\"dataframe\">\n  <thead>\n    <tr style=\"text-align: right;\">\n      <th>smoker</th>\n      <th>No</th>\n      <th>Yes</th>\n      <th>All</th>\n    </tr>\n    <tr>\n      <th>sex</th>\n      <th></th>\n      <th></th>\n      <th></th>\n    </tr>\n  </thead>\n  <tbody>\n    <tr>\n      <th>Female</th>\n      <td>149.77</td>\n      <td>96.74</td>\n      <td>246.51</td>\n    </tr>\n    <tr>\n      <th>Male</th>\n      <td>302.00</td>\n      <td>183.07</td>\n      <td>485.07</td>\n    </tr>\n    <tr>\n      <th>All</th>\n      <td>451.77</td>\n      <td>279.81</td>\n      <td>731.58</td>\n    </tr>\n  </tbody>\n</table>\n</div>"
     },
     "metadata": {},
     "execution_count": 20
    }
   ],
   "source": [
    "# pivot_table函数,默认调用函数为mean()\n",
    "tips.pivot_table(values='tip',index='sex',columns='smoker',aggfunc='sum',margins=True)"
   ]
  },
  {
   "cell_type": "code",
   "execution_count": 21,
   "metadata": {},
   "outputs": [
    {
     "output_type": "execute_result",
     "data": {
      "text/plain": [
       "size  1   2   3   4  5  6\n",
       "day                      \n",
       "Fri   1  16   1   1  0  0\n",
       "Sat   2  53  18  13  1  0\n",
       "Sun   0  39  15  18  3  1\n",
       "Thur  1  48   4   5  1  3"
      ],
      "text/html": "<div>\n<style scoped>\n    .dataframe tbody tr th:only-of-type {\n        vertical-align: middle;\n    }\n\n    .dataframe tbody tr th {\n        vertical-align: top;\n    }\n\n    .dataframe thead th {\n        text-align: right;\n    }\n</style>\n<table border=\"1\" class=\"dataframe\">\n  <thead>\n    <tr style=\"text-align: right;\">\n      <th>size</th>\n      <th>1</th>\n      <th>2</th>\n      <th>3</th>\n      <th>4</th>\n      <th>5</th>\n      <th>6</th>\n    </tr>\n    <tr>\n      <th>day</th>\n      <th></th>\n      <th></th>\n      <th></th>\n      <th></th>\n      <th></th>\n      <th></th>\n    </tr>\n  </thead>\n  <tbody>\n    <tr>\n      <th>Fri</th>\n      <td>1</td>\n      <td>16</td>\n      <td>1</td>\n      <td>1</td>\n      <td>0</td>\n      <td>0</td>\n    </tr>\n    <tr>\n      <th>Sat</th>\n      <td>2</td>\n      <td>53</td>\n      <td>18</td>\n      <td>13</td>\n      <td>1</td>\n      <td>0</td>\n    </tr>\n    <tr>\n      <th>Sun</th>\n      <td>0</td>\n      <td>39</td>\n      <td>15</td>\n      <td>18</td>\n      <td>3</td>\n      <td>1</td>\n    </tr>\n    <tr>\n      <th>Thur</th>\n      <td>1</td>\n      <td>48</td>\n      <td>4</td>\n      <td>5</td>\n      <td>1</td>\n      <td>3</td>\n    </tr>\n  </tbody>\n</table>\n</div>"
     },
     "metadata": {},
     "execution_count": 21
    }
   ],
   "source": [
    "# 交叉表：分组计算频率\n",
    "cross_table=pd.crosstab(index=tips['day'],columns=tips['size'])\n",
    "cross_table"
   ]
  },
  {
   "cell_type": "code",
   "execution_count": 23,
   "metadata": {},
   "outputs": [
    {
     "output_type": "execute_result",
     "data": {
      "text/plain": [
       "size         1         2         3         4         5         6\n",
       "day                                                             \n",
       "Fri   0.052632  0.842105  0.052632  0.052632  0.000000  0.000000\n",
       "Sat   0.022989  0.609195  0.206897  0.149425  0.011494  0.000000\n",
       "Sun   0.000000  0.513158  0.197368  0.236842  0.039474  0.013158\n",
       "Thur  0.016129  0.774194  0.064516  0.080645  0.016129  0.048387"
      ],
      "text/html": "<div>\n<style scoped>\n    .dataframe tbody tr th:only-of-type {\n        vertical-align: middle;\n    }\n\n    .dataframe tbody tr th {\n        vertical-align: top;\n    }\n\n    .dataframe thead th {\n        text-align: right;\n    }\n</style>\n<table border=\"1\" class=\"dataframe\">\n  <thead>\n    <tr style=\"text-align: right;\">\n      <th>size</th>\n      <th>1</th>\n      <th>2</th>\n      <th>3</th>\n      <th>4</th>\n      <th>5</th>\n      <th>6</th>\n    </tr>\n    <tr>\n      <th>day</th>\n      <th></th>\n      <th></th>\n      <th></th>\n      <th></th>\n      <th></th>\n      <th></th>\n    </tr>\n  </thead>\n  <tbody>\n    <tr>\n      <th>Fri</th>\n      <td>0.052632</td>\n      <td>0.842105</td>\n      <td>0.052632</td>\n      <td>0.052632</td>\n      <td>0.000000</td>\n      <td>0.000000</td>\n    </tr>\n    <tr>\n      <th>Sat</th>\n      <td>0.022989</td>\n      <td>0.609195</td>\n      <td>0.206897</td>\n      <td>0.149425</td>\n      <td>0.011494</td>\n      <td>0.000000</td>\n    </tr>\n    <tr>\n      <th>Sun</th>\n      <td>0.000000</td>\n      <td>0.513158</td>\n      <td>0.197368</td>\n      <td>0.236842</td>\n      <td>0.039474</td>\n      <td>0.013158</td>\n    </tr>\n    <tr>\n      <th>Thur</th>\n      <td>0.016129</td>\n      <td>0.774194</td>\n      <td>0.064516</td>\n      <td>0.080645</td>\n      <td>0.016129</td>\n      <td>0.048387</td>\n    </tr>\n  </tbody>\n</table>\n</div>"
     },
     "metadata": {},
     "execution_count": 23
    }
   ],
   "source": [
    "cross_table.div(cross_table.sum(1),axis=0)"
   ]
  },
  {
   "source": [
    "2020/11/08:matplotlib可视化"
   ],
   "cell_type": "markdown",
   "metadata": {}
  },
  {
   "source": [
    "2020/11/15:最小二乘法"
   ],
   "cell_type": "markdown",
   "metadata": {}
  },
  {
   "cell_type": "code",
   "execution_count": null,
   "metadata": {},
   "outputs": [],
   "source": [
    "def linear_regression(x, y):  \n",
    "    N = len(x) \n",
    "    sumx = sum(x) \n",
    "    sumy = sum(y) \n",
    "    sumx2 = sum(x**2) \n",
    "    sumxy = sum(x*y) \n",
    "\n",
    "    A = np.mat([[N, sumx], [sumx, sumx2]]) \n",
    "    b = np.array([sumy, sumxy]) \n",
    "\n",
    "    return np.linalg.solve(A, b)\n",
    "# a0, a1 = linear_regression(x,y)\n",
    "# y = a0 + a1*x"
   ]
  }
 ]
}