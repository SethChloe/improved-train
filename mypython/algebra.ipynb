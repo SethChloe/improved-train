{
 "metadata": {
  "language_info": {
   "codemirror_mode": {
    "name": "ipython",
    "version": 3
   },
   "file_extension": ".py",
   "mimetype": "text/x-python",
   "name": "python",
   "nbconvert_exporter": "python",
   "pygments_lexer": "ipython3",
   "version": "3.8.3-final"
  },
  "orig_nbformat": 2,
  "kernelspec": {
   "name": "python3",
   "display_name": "Python 3",
   "language": "python"
  }
 },
 "nbformat": 4,
 "nbformat_minor": 2,
 "cells": [
  {
   "source": [
    "### This is notebook for learning how to use computer to solve algebra problems."
   ],
   "cell_type": "markdown",
   "metadata": {}
  },
  {
   "cell_type": "code",
   "execution_count": 3,
   "metadata": {},
   "outputs": [],
   "source": [
    "import numpy as np\n",
    "import math"
   ]
  },
  {
   "source": [
    "### 第一章：多项式"
   ],
   "cell_type": "markdown",
   "metadata": {}
  },
  {
   "source": [
    "* 多项式的表示"
   ],
   "cell_type": "markdown",
   "metadata": {}
  },
  {
   "cell_type": "code",
   "execution_count": 5,
   "metadata": {},
   "outputs": [],
   "source": [
    "#由于需要用到sympy库，暂时跳过"
   ]
  },
  {
   "source": [
    "### 第二章：行列式\n",
    "### 第三章：线性方程组"
   ],
   "cell_type": "markdown",
   "metadata": {}
  },
  {
   "source": [
    "* n阶行列式"
   ],
   "cell_type": "markdown",
   "metadata": {}
  },
  {
   "cell_type": "code",
   "execution_count": 6,
   "metadata": {},
   "outputs": [
    {
     "output_type": "stream",
     "name": "stdout",
     "text": [
      "3\n-4.999999999999999\n[[-1.   5.8 -3.8]\n [ 1.  -2.8  1.8]\n [ 0.  -0.2  0.2]]\n[ 1  1 15]\n17\n[15.84400594  1.38401026 -0.2280162 ]\n[[-0.1305644  -0.96916692  0.85693465]\n [-0.55996866 -0.23012485 -0.51493554]\n [-0.81816137  0.08807966 -0.02245855]]\n"
     ]
    }
   ],
   "source": [
    "#计算矩阵的秩、行列式、逆、迹，特征值和特征向量\n",
    "a = np.array([[1,2,1],\n",
    "             [1,1,10],\n",
    "             [1,1,15]])\n",
    "print(np.linalg.matrix_rank(a)) #返回矩阵的秩\n",
    "print(np.linalg.det(a)) #返回矩阵的行列式\n",
    "print(np.linalg.inv(a)) #返回矩阵的逆\n",
    "print(a.diagonal()) #返回矩阵的对角线元素，也可以通过offset参数在主角线的上下偏移，获取偏移后的对角线元素。a.diagonal(offset=1)返回array([1.10])\n",
    "print(a.trace()) #返回迹\n",
    "eigenvalues ,eigenvectors= np.linalg.eig(a) #eigenvalues为特征值。eigenvectors为特征向量\n",
    "print(eigenvalues)\n",
    "print(eigenvectors)"
   ]
  },
  {
   "source": [
    "* 解线性方程组\n",
    "\n",
    "例如：\n",
    "\n",
    "    2x + 3y = 5\n",
    "    x   + 3y = 3 \n",
    "    解得 x=2,y=1/3."
   ],
   "cell_type": "markdown",
   "metadata": {}
  },
  {
   "cell_type": "code",
   "execution_count": 7,
   "metadata": {},
   "outputs": [
    {
     "output_type": "execute_result",
     "data": {
      "text/plain": [
       "array([2.        , 0.33333333])"
      ]
     },
     "metadata": {},
     "execution_count": 7
    }
   ],
   "source": [
    "a=np.array([[2,3],[1,3]])   #系数矩阵\n",
    "b=np.array([5,3]).T     #常数项列矩阵\n",
    "x=np.linalg.solve(a,b)  #方程组的解\n",
    "x"
   ]
  },
  {
   "source": [
    "#线性方程组解的结构暂时跳过"
   ],
   "cell_type": "code",
   "metadata": {},
   "execution_count": 8,
   "outputs": []
  },
  {
   "source": [
    "### 第四章：矩阵"
   ],
   "cell_type": "markdown",
   "metadata": {}
  },
  {
   "source": [
    "* 矩阵的运算"
   ],
   "cell_type": "markdown",
   "metadata": {}
  },
  {
   "cell_type": "code",
   "execution_count": 9,
   "metadata": {},
   "outputs": [
    {
     "output_type": "execute_result",
     "data": {
      "text/plain": [
       "array([[4, 1, 1],\n",
       "       [9, 1, 0],\n",
       "       [0, 1, 4]])"
      ]
     },
     "metadata": {},
     "execution_count": 9
    }
   ],
   "source": [
    "#点乘\n",
    "#+-*/均为对应元素进行运算(需要是形状相同的矩阵)\n",
    "a=np.array([[2,1,1],\n",
    "            [3,1,0],\n",
    "            [0,1,2]])\n",
    "a*a"
   ]
  },
  {
   "cell_type": "code",
   "execution_count": 10,
   "metadata": {},
   "outputs": [
    {
     "output_type": "execute_result",
     "data": {
      "text/plain": [
       "array([[7, 4, 4],\n",
       "       [9, 4, 3],\n",
       "       [3, 3, 4]])"
      ]
     },
     "metadata": {},
     "execution_count": 10
    }
   ],
   "source": [
    "#矩阵乘法\n",
    "a=np.array([[2,1,1],\n",
    "            [3,1,0],\n",
    "            [0,1,2]])\n",
    "np.dot(a,a)"
   ]
  },
  {
   "cell_type": "code",
   "execution_count": null,
   "metadata": {},
   "outputs": [],
   "source": []
  }
 ]
}